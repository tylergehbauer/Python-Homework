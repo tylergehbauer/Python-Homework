{
 "cells": [
  {
   "cell_type": "code",
   "execution_count": 1,
   "id": "d44c8ce6-63a9-46f2-8e09-b6992661645b",
   "metadata": {},
   "outputs": [],
   "source": [
    "import csv\n",
    "from pathlib import Path "
   ]
  },
  {
   "cell_type": "code",
   "execution_count": 2,
   "id": "6d68e29e-54c3-486e-99bc-b599b508829f",
   "metadata": {},
   "outputs": [],
   "source": [
    "menu_data = Path('menu_data.csv')\n",
    "report_text = Path('report_txt')\n",
    "menu = []"
   ]
  },
  {
   "cell_type": "code",
   "execution_count": 3,
   "id": "e9b448f1-016c-428d-8cb5-6ae452b015b1",
   "metadata": {},
   "outputs": [],
   "source": [
    "with open(menu_data) as csvfile:\n",
    "    reader_menu = csv.reader(csvfile , delimiter=\",\") \n",
    "    \n",
    "    \n",
    "    #Skip header to start at first row\n",
    "    header = next(reader_menu)\n",
    "    \n",
    "    for row in reader_menu:\n",
    "        menu.append(row) #creates list of lists in menu\n",
    "       "
   ]
  },
  {
   "cell_type": "code",
   "execution_count": 4,
   "id": "06331309-ab4a-4536-8832-6bbf272e29cd",
   "metadata": {},
   "outputs": [],
   "source": [
    "#Same process for sales data\n",
    "\n",
    "sales_data = Path('sales_data.csv')\n",
    "\n",
    "sales = []\n",
    "\n",
    "with open(sales_data) as csvfile:\n",
    "    reader_sales = csv.reader(csvfile, delimiter=\",\")\n",
    "    \n",
    "    header = next(reader_sales)\n",
    "    \n",
    "    for row in reader_sales:\n",
    "        sales.append(row)"
   ]
  },
  {
   "cell_type": "code",
   "execution_count": null,
   "id": "5c37fcdc-e1d2-40c7-99c6-7b5b1032b524",
   "metadata": {},
   "outputs": [],
   "source": [
    "#create dict\n",
    "report = { }\n",
    "\n",
    "\n",
    "for row_sales in sales:\n",
    "    quantity = int(row_sales[3])\n",
    "    sales_item = str(row_sales[4])\n",
    "    \n",
    "    \n",
    "    report[sales_item] = { \"01-count\": 0, \"02-revenue\": 0, \"03-cogs\": 0,\"04-profit\": 0}\n",
    "    \n",
    "    for row_menu in menu:\n",
    "        item = str(row_menu[0])\n",
    "        price = float(row_menu[3])\n",
    "        cost = int(row_menu[4])\n",
    "        \n",
    "        if (str(sales_item) == str(item)):\n",
    "            \n",
    "        \n",
    "            profit = (price - cost) \n",
    "            \n",
    "            report[sales_item][\"01-count\"] += quantity\n",
    "            report[sales_item][\"02-revenue\"] += price * quantity\n",
    "            report[sales_item][\"03-cogs\"] += cost * quantity\n",
    "            report[sales_item][\"04-profit\"] += profit * quantity\n",
    "            \n",
    "        else:\n",
    "                #print(f\"{sales_item} does not equal {item}! NO MATCH!\")\n",
    "\n",
    "\n",
    "   \n",
    "            "
   ]
  },
  {
   "cell_type": "code",
   "execution_count": null,
   "id": "1e1970d5-30cc-44ad-9f3b-b474bb4e921f",
   "metadata": {},
   "outputs": [],
   "source": [
    "with open(report_text, 'w') as report_txt:\n",
    "    report_txt.write(f\"{report}\")\n",
    "    \n"
   ]
  }
 ],
 "metadata": {
  "kernelspec": {
   "display_name": "Python 3 (ipykernel)",
   "language": "python",
   "name": "python3"
  },
  "language_info": {
   "codemirror_mode": {
    "name": "ipython",
    "version": 3
   },
   "file_extension": ".py",
   "mimetype": "text/x-python",
   "name": "python",
   "nbconvert_exporter": "python",
   "pygments_lexer": "ipython3",
   "version": "3.7.11"
  }
 },
 "nbformat": 4,
 "nbformat_minor": 5
}
