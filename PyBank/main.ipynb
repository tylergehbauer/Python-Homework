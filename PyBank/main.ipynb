{
 "cells": [
  {
   "cell_type": "code",
   "execution_count": 15,
   "id": "943bc0b7-11a2-40ee-9914-c6b46fc7494d",
   "metadata": {},
   "outputs": [],
   "source": [
    "import csv\n",
    "from pathlib import Path"
   ]
  },
  {
   "cell_type": "code",
   "execution_count": 16,
   "id": "03a4f274-0c31-44cf-9a03-a0e2900e33c1",
   "metadata": {},
   "outputs": [],
   "source": [
    "file_load = Path(\"budget_data.csv\")\n",
    "file_write = Path(\"budget_analysis.txt\") #determines name of output file and path"
   ]
  },
  {
   "cell_type": "code",
   "execution_count": 24,
   "id": "bd14fae8-0dd3-4d67-9f57-67256873e270",
   "metadata": {},
   "outputs": [],
   "source": [
    "#initialize variables and lists\n",
    "total_months = 0\n",
    "total_net_profit = 0\n",
    "greatest_increase_max = [\"\", 0] \n",
    "greatest_decrease_min = [\"\", 9999999999]\n",
    "\n",
    "net_change_list = []\n"
   ]
  },
  {
   "cell_type": "code",
   "execution_count": 25,
   "id": "ebc3025f-2638-46ab-afa8-bea145367dd9",
   "metadata": {},
   "outputs": [],
   "source": [
    "#reads csv and converts it into a list of dicts\n",
    "with open(file_load) as budget_data:\n",
    "    reader_budget = csv.reader(budget_data)  #reads the csv file and creates object/variable reader_budget\n",
    "    \n",
    "    header = next(reader_budget) #calls header\n",
    "    \n",
    "    #print(header)\n",
    "    \n",
    "    #isolate the first row \n",
    "    first_row = next(reader_budget) #first row, the 'next' returns next item (next row) in iterator, which is row after header\n",
    "    total_months += 1 # add up the total months, this will make it start at 1 in the loop\n",
    "    total_net_profit = total_net_profit + int(first_row[1]) #0 + value in first, row column 2 (867884)\n",
    "    previous_net = int(first_row[1]) #first row second column starts as 867884\n",
    "    \n",
    "    #print(first_row) to test\n",
    "   \n",
    "    for row in reader_budget: #will loop through each row of the reader_budget \n",
    "        #print(row) to test\n",
    "        #starts loop at second row\n",
    "       \n",
    "        #calculate the totals for each loop\n",
    "        total_months = total_months + 1 #everytime loops through a row add 1.This starts at 1\n",
    "        total_net_profit = total_net_profit + int(row[1]) #for each row (specifically column 2), will add profit/lose value\n",
    "        #this will result in the actual total net profit once each row is added\n",
    "        \n",
    "        #net changes\n",
    "        net_change = int(row[1]) - previous_net #calculates the change of current value to previous value.\n",
    "        previous_net = int(row[1]) # this variable changes every with every loop \n",
    "        \n",
    "        #so loops will look like the following: \n",
    "        #first loop would be 984655 - previous_net(867884) = 116771\n",
    "        #second loop would be 322013 - previous_net(984655) = -662642\n",
    "        #etc...\n",
    "        #these values get added to the list below \n",
    "    \n",
    "        \n",
    "        net_change_list += [net_change] #each loop adds the new value(net_change) to net_change_list\n",
    "        #this list is used for average_net_change calculation\n",
    "    \n",
    "          \n",
    "        #calc the max\n",
    "        if net_change > greatest_increase_max[1]: #if net_change is larger than 0 (the 0 is index 1 of list hence the [1])\n",
    "            greatest_increase_max[0] = row[0] #the \"\" (index 0 of list) becomes the month associated with the greater value\n",
    "            greatest_increase_max[1] = net_change #the 0 will be replaced the greater value (net_change)\n",
    "            \n",
    "            #this will continue to repeat until the net_change is at its greatest\n",
    "            \n",
    "        #calc the min\n",
    "        if net_change < greatest_decrease_min[1]:  #if net_change is smaller than 999999999\n",
    "            greatest_decrease_min[0] = row[0]  #the \"\" will be replaced by the date\n",
    "            greatest_decrease_min[1] = net_change #the 99999999 will be replaced the smaller value (net_change)\n",
    "            \n",
    "            #this repreates until the lowest net_change and date is in the list\n",
    "\n"
   ]
  },
  {
   "cell_type": "code",
   "execution_count": 26,
   "id": "97fa1163-6187-40c1-ab36-b19577b08752",
   "metadata": {},
   "outputs": [],
   "source": [
    "#average_net_change\n",
    "#what the net_change_list varibale is used for:\n",
    "avg_net_change = round(sum(net_change_list) / len(net_change_list), 2) \n",
    "#adds up all the sumns in list and divides by \n",
    "#the number of entries for the average and rounds 2 decimal places\n",
    "\n",
    "#print(avg_net_change) #to test\n"
   ]
  },
  {
   "cell_type": "code",
   "execution_count": 14,
   "id": "0dfe791e-a767-4cec-89df-d8a460caa0e5",
   "metadata": {},
   "outputs": [],
   "source": [
    "with open(file_write, 'w') as budget_analysis: #budget_analysis is basically variable name for file\n",
    "    budget_analysis.write(\"Financial Analysis\\n\")\n",
    "    budget_analysis.write(\"----------------------------\\n\")\n",
    "    budget_analysis.write(f\"Total Months: {total_months}\\n\")\n",
    "    budget_analysis.write(f\"Total Net Profit: ${total_net_profit}\\n\")\n",
    "    budget_analysis.write(f\"Average Change: ${avg_net_change}\\n\")\n",
    "    budget_analysis.write(f\"Greatest Increase in Profits: {greatest_increase_max[0]} (${greatest_increase_max[1]})\\n\")\n",
    "    budget_analysis.write(f\"Greatest Decrease in Profits: {greatest_decrease_min[0]} (${greatest_decrease_min[1]})\\n\")\n",
    "    \n",
    "    #file_write is the path where this file will be placed\n",
    "    #this step writes this information into a text file to Path('budget_analysis.txt')\n",
    "    "
   ]
  },
  {
   "cell_type": "code",
   "execution_count": 27,
   "id": "d32ebf9e-95fd-4ac7-902f-ed50e5c53e35",
   "metadata": {},
   "outputs": [
    {
     "name": "stdout",
     "output_type": "stream",
     "text": [
      "Financial Analysis\n",
      "----------------------------\n",
      "Total Months: 86\n",
      "Total Net Profit: $38382578\n",
      "Average Change: $-2315.12\n",
      "Greatest Increase in Profits: Feb-2012 ($1926159)\n",
      "Greatest Decrease in Profits: Sep-2013 ($-2196167)\n"
     ]
    }
   ],
   "source": [
    "#to print data collected to terminal\n",
    "print(\"Financial Analysis\")\n",
    "print(\"----------------------------\")\n",
    "print(f\"Total Months: {total_months}\")\n",
    "print(f\"Total Net Profit: ${total_net_profit}\")\n",
    "print(f\"Average Change: ${avg_net_change}\")\n",
    "print(f\"Greatest Increase in Profits: {greatest_increase_max[0]} (${greatest_increase_max[1]})\")\n",
    "print(f\"Greatest Decrease in Profits: {greatest_decrease_min[0]} (${greatest_decrease_min[1]})\")"
   ]
  }
 ],
 "metadata": {
  "kernelspec": {
   "display_name": "Python 3 (ipykernel)",
   "language": "python",
   "name": "python3"
  },
  "language_info": {
   "codemirror_mode": {
    "name": "ipython",
    "version": 3
   },
   "file_extension": ".py",
   "mimetype": "text/x-python",
   "name": "python",
   "nbconvert_exporter": "python",
   "pygments_lexer": "ipython3",
   "version": "3.7.11"
  },
  "toc-showcode": true
 },
 "nbformat": 4,
 "nbformat_minor": 5
}
