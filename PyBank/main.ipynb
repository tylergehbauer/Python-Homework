{
 "cells": [
  {
   "cell_type": "code",
   "execution_count": 11,
   "id": "943bc0b7-11a2-40ee-9914-c6b46fc7494d",
   "metadata": {},
   "outputs": [],
   "source": [
    "import csv\n",
    "from pathlib import Path"
   ]
  },
  {
   "cell_type": "code",
   "execution_count": 12,
   "id": "03a4f274-0c31-44cf-9a03-a0e2900e33c1",
   "metadata": {},
   "outputs": [],
   "source": [
    "file_load = Path(\"budget_data.csv\")\n",
    "file_write = Path(\"budget_analysis.csv\")"
   ]
  },
  {
   "cell_type": "code",
   "execution_count": 38,
   "id": "bd14fae8-0dd3-4d67-9f57-67256873e270",
   "metadata": {},
   "outputs": [],
   "source": [
    "#initialize\n",
    "total_months = 0\n",
    "total_net_profit = 0\n",
    "greatest_increase_max = [\"\", 0] \n",
    "greatest_decrease_min = [\"\", 9999999999]\n",
    "\n",
    "net_change_list = []\n",
    "month_of_change = []"
   ]
  },
  {
   "cell_type": "code",
   "execution_count": 39,
   "id": "ebc3025f-2638-46ab-afa8-bea145367dd9",
   "metadata": {},
   "outputs": [
    {
     "name": "stdout",
     "output_type": "stream",
     "text": [
      "['Date', 'Profit/Losses']\n",
      "[116771, -662642, -391430, 379920, 212354, 510239, -428211, -821271, 693918, 416278, -974163, 860159, -1115009, 1033048, 95318, -308093, 99052, -521393, 605450, 231727, -65187, -702716, 177975, -1065544, 1926159, -917805, 898730, -334262, -246499, -64055, -1529236, 1497596, 304914, -635801, 398319, -183161, -37864, -253689, 403655, 94168, 306877, -83000, 210462, -2196167, 1465222, -956983, 1838447, -468003, -64602, 206242, -242155, -449079, 315198, 241099, 111540, 365942, -219310, -368665, 409837, 151210, -110244, -341938, -1212159, 683246, -70825, 335594, 417334, -272194, -236462, 657432, -211262, -128237, -1750387, 925441, 932089, -311434, 267252, -1876758, 1733696, 198551, -665765, 693229, -734926, 77242, 532869]\n",
      "['Feb-2012', 1926159]\n"
     ]
    }
   ],
   "source": [
    "#reads cvs and converts it into a list of ditcs\n",
    "with open(file_load) as budget_data:\n",
    "    csvreader = csv.reader(budget_data)\n",
    "    \n",
    "    header = next(csvreader) #calls header\n",
    "    \n",
    "    print(header)\n",
    "    \n",
    "    #extract the first row \n",
    "    first_row = next(csvreader) #first row, the 'next' returns next item(row) in interator, which is row after header\n",
    "    total_months += 1 # add up the total months\n",
    "    total_net_profit = total_net_profit + int(first_row[1]) #0 + value in first, row column 2 \n",
    "    prev_net = int(first_row[1]) #first row second column starts 867884\n",
    "    \n",
    "    #print(first_row)\n",
    "   \n",
    "    for row in csvreader: #will loop through each row\n",
    "        \n",
    "        #totals\n",
    "        total_months = total_months + 1 #everytime loops through a row add 1, starts at 0\n",
    "        total_net_profit = total_net_profit + int(row[1]) #for each row (column 2) add profit/lose value\n",
    "        #this will result in the actual total net profit once each row is added\n",
    "        \n",
    "        #net changes\n",
    "        net_change = int(row[1]) - prev_net #takes the total change of values.\n",
    "        prev_net = int(row[1]) # then this changes every loop \n",
    "        #firstloop would be \n",
    "        #then second loop would be 984655 - prev_net 867884 = 116771\n",
    "        #third loop would be 322013 - prev_net 984655 = -662642\n",
    "        # these get added to list\n",
    "    \n",
    "        \n",
    "        net_change_list = net_change_list + [net_change] #each loop adds a new value to net_change list\n",
    "        month_of_change = month_of_change + [row[0]] #similarly adds the date to the list each loop ((row[0]) is first column)\n",
    "        \n",
    "      \n",
    "    #calc the max\n",
    "        if net_change > greatest_increase_max[1]: #if net_change is larger than 0\n",
    "            greatest_increase_max[0] = row[0] #the \"\" becomes the month\n",
    "            greatest_increase_max[1] = net_change #the 0 becomes the net_change value\n",
    "            \n",
    "            #this will continue to repeat until the net_change is at its greatest\n",
    "            \n",
    "        #calc the min\n",
    "        if net_change < greatest_decrease_min[1]:  #if net_change is smaller than 999999999\n",
    "            greatest_decrease_min[0] = row[0]  #the \"\" will be replaced by the date\n",
    "            greatest_decrease_min[1] = net_change #the 99999999 will become a smaller net_change value\n",
    "            \n",
    "            #this repreates until the lowest net_change and date is in the list\n",
    "#print(net_change_list)\n",
    "#print(greatest_decrease_min)\n",
    "#print(greatest_increase_max)\n",
    "    "
   ]
  },
  {
   "cell_type": "code",
   "execution_count": 19,
   "id": "97fa1163-6187-40c1-ab36-b19577b08752",
   "metadata": {},
   "outputs": [
    {
     "name": "stdout",
     "output_type": "stream",
     "text": [
      "422.49\n"
     ]
    }
   ],
   "source": [
    "#average_net_change\n",
    "avg_net_change = round(sum(net_change_list) / len(net_change_list), 2)\n",
    "\n",
    "#print(avg_net_change)"
   ]
  },
  {
   "cell_type": "code",
   "execution_count": null,
   "id": "0dfe791e-a767-4cec-89df-d8a460caa0e5",
   "metadata": {},
   "outputs": [],
   "source": [
    "="
   ]
  }
 ],
 "metadata": {
  "kernelspec": {
   "display_name": "Python 3 (ipykernel)",
   "language": "python",
   "name": "python3"
  },
  "language_info": {
   "codemirror_mode": {
    "name": "ipython",
    "version": 3
   },
   "file_extension": ".py",
   "mimetype": "text/x-python",
   "name": "python",
   "nbconvert_exporter": "python",
   "pygments_lexer": "ipython3",
   "version": "3.7.11"
  },
  "toc-showcode": true
 },
 "nbformat": 4,
 "nbformat_minor": 5
}
