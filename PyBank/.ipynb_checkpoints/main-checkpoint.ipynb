{
 "cells": [
  {
   "cell_type": "code",
   "execution_count": 11,
   "id": "943bc0b7-11a2-40ee-9914-c6b46fc7494d",
   "metadata": {},
   "outputs": [],
   "source": [
    "import csv\n",
    "from pathlib import Path"
   ]
  },
  {
   "cell_type": "code",
   "execution_count": 12,
   "id": "03a4f274-0c31-44cf-9a03-a0e2900e33c1",
   "metadata": {},
   "outputs": [],
   "source": [
    "file_load = Path(\"budget_data.csv\")\n",
    "file_write = Path(\"budget_analysis.csv\")"
   ]
  },
  {
   "cell_type": "code",
   "execution_count": 13,
   "id": "bd14fae8-0dd3-4d67-9f57-67256873e270",
   "metadata": {},
   "outputs": [],
   "source": [
    "#initialize\n",
    "total_months = 0\n",
    "total_net_profit = 0\n",
    "greatest_increase_max = [\"\", 0] \n",
    "greatest_decrease_min = [\"\", 9999999999]\n",
    "\n",
    "net_change_list = []\n",
    "month_of_change = []"
   ]
  },
  {
   "cell_type": "code",
   "execution_count": 16,
   "id": "ebc3025f-2638-46ab-afa8-bea145367dd9",
   "metadata": {},
   "outputs": [],
   "source": [
    "#reads cvs and converts it into a list of ditcs\n",
    "with open(file_load) as budget_data:\n",
    "    csvreader = csv.reader(budget_data)\n",
    "    \n",
    "    header = next(csvreader) #calls header\n",
    "    \n",
    "    #print(header)\n",
    "    \n",
    "    #extract the first row \n",
    "    first_row = next(csvreader) #first row is header\n",
    "    total_months += 1 # add up the total months\n",
    "    total_net_profit = total_net_profit + int(first_row[1]) #0 plus first value \n",
    "    prev_net = int(first_row[1]) #first row second column\n",
    "    \n",
    "    for row in csvreader: #will loop through each row\n",
    "        \n",
    "        #totals\n",
    "        total_months = total_months + 1 #everytime loops through a row add 1\n",
    "        total_net_profit = total_net_profit + int(row[1]) #for each row (column 2) add profit value\n",
    "        \n",
    "        #net changes\n",
    "        net_change = int(row[1]) - prev_net #takes the total change of values. this will be 0 on first loop\n",
    "        prev_net = int(row[1]) # then this changes every loop \n",
    "        net_change_list = net_change_list + [net_change] #each loop adds a new value to net_change list\n",
    "        month_of_change = month_of_change + [row[0]]# similarly adds the date to the list each loop (row[0]) is first column\n",
    "        \n",
    "        #calc the max\n",
    "        if net_change > greatest_increase_max[1]:\n",
    "            greatest_increase_max[0] = row[0]\n",
    "            greatest_increase_max[1] = net_change\n",
    "            \n",
    "        #calc the min\n",
    "        if net_change < greatest_decrease_min[1]:\n",
    "            greatest_decrease_min[0] = row[0]\n",
    "            greatest_decrease_min[1] = net_change\n",
    "        \n",
    "    "
   ]
  },
  {
   "cell_type": "code",
   "execution_count": 19,
   "id": "97fa1163-6187-40c1-ab36-b19577b08752",
   "metadata": {},
   "outputs": [
    {
     "name": "stdout",
     "output_type": "stream",
     "text": [
      "422.49\n"
     ]
    }
   ],
   "source": [
    "#average_net_change\n",
    "avg_net_change = round(sum(net_change_list) / len(net_change_list), 2)\n",
    "\n",
    "#print(avg_net_change)\n"
   ]
  },
  {
   "cell_type": "code",
   "execution_count": null,
   "id": "0dfe791e-a767-4cec-89df-d8a460caa0e5",
   "metadata": {},
   "outputs": [],
   "source": [
    "#extr"
   ]
  }
 ],
 "metadata": {
  "kernelspec": {
   "display_name": "Python 3 (ipykernel)",
   "language": "python",
   "name": "python3"
  },
  "language_info": {
   "codemirror_mode": {
    "name": "ipython",
    "version": 3
   },
   "file_extension": ".py",
   "mimetype": "text/x-python",
   "name": "python",
   "nbconvert_exporter": "python",
   "pygments_lexer": "ipython3",
   "version": "3.7.11"
  },
  "toc-showcode": true
 },
 "nbformat": 4,
 "nbformat_minor": 5
}
